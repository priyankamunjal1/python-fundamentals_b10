{
 "cells": [
  {
   "cell_type": "code",
   "execution_count": 10,
   "metadata": {},
   "outputs": [
    {
     "name": "stdout",
     "output_type": "stream",
     "text": [
      "priyanka munjal\n"
     ]
    }
   ],
   "source": [
    "first_name = \"priyanka\"\n",
    "last_name = \"munjal\"\n",
    "full_name = f\"{first_name} {last_name}\"\n",
    "print(full_name)\n",
    "\n"
   ]
  },
  {
   "cell_type": "code",
   "execution_count": 13,
   "metadata": {},
   "outputs": [
    {
     "name": "stdout",
     "output_type": "stream",
     "text": [
      "Welcome back, nice to see you again,Priyanka Munjal\n"
     ]
    }
   ],
   "source": [
    "print(f\"Welcome back, nice to see you again,{full_name.title()}\")"
   ]
  },
  {
   "cell_type": "code",
   "execution_count": 18,
   "metadata": {},
   "outputs": [
    {
     "name": "stdout",
     "output_type": "stream",
     "text": [
      "python\n",
      "\tpython\n",
      "\n",
      "Bigdata\tHadoop\n"
     ]
    }
   ],
   "source": [
    "# Adding white spaces\n",
    "print(\"python\")\n",
    "print(\"\\tpython\")\n",
    "print(\"\\nBigdata\\tHadoop\")"
   ]
  },
  {
   "cell_type": "code",
   "execution_count": 19,
   "metadata": {},
   "outputs": [
    {
     "name": "stdout",
     "output_type": "stream",
     "text": [
      "languages :\n",
      "python\n",
      "c\n",
      "c++\n"
     ]
    }
   ],
   "source": [
    "print(\"languages :\\npython\\nc\\nc++\")"
   ]
  },
  {
   "cell_type": "code",
   "execution_count": 20,
   "metadata": {},
   "outputs": [
    {
     "name": "stdout",
     "output_type": "stream",
     "text": [
      "languages :\n",
      "\tpython\n",
      "\tc\n",
      "\tc++\n"
     ]
    }
   ],
   "source": [
    "print(\"languages :\\n\\tpython\\n\\tc\\n\\tc++\")"
   ]
  },
  {
   "cell_type": "code",
   "execution_count": 21,
   "metadata": {},
   "outputs": [
    {
     "name": "stdout",
     "output_type": "stream",
     "text": [
      "     python\n"
     ]
    }
   ],
   "source": [
    "# white spaces\n",
    "fav_lang = \"     python\"\n",
    "print(fav_lang)"
   ]
  },
  {
   "cell_type": "code",
   "execution_count": 22,
   "metadata": {},
   "outputs": [
    {
     "name": "stdout",
     "output_type": "stream",
     "text": [
      "python       \n"
     ]
    }
   ],
   "source": [
    "# Stripping of white spaces\n",
    "# rstrip - removing space from right\n",
    "# lstrip - removing space from left\n",
    "# strip - first it will search whether the space is on left or right and then it will strip the space\n",
    "fav_lang = \"python       \"\n",
    "print(fav_lang)"
   ]
  },
  {
   "cell_type": "code",
   "execution_count": 23,
   "metadata": {},
   "outputs": [
    {
     "data": {
      "text/plain": [
       "'python'"
      ]
     },
     "execution_count": 23,
     "metadata": {},
     "output_type": "execute_result"
    }
   ],
   "source": [
    "fav_lang.rstrip()"
   ]
  },
  {
   "cell_type": "code",
   "execution_count": 25,
   "metadata": {},
   "outputs": [
    {
     "data": {
      "text/plain": [
       "'java'"
      ]
     },
     "execution_count": 25,
     "metadata": {},
     "output_type": "execute_result"
    }
   ],
   "source": [
    "lang = \"        java\"\n",
    "lang.lstrip()"
   ]
  },
  {
   "cell_type": "code",
   "execution_count": 26,
   "metadata": {},
   "outputs": [
    {
     "data": {
      "text/plain": [
       "'bigdata_hadoop'"
      ]
     },
     "execution_count": 26,
     "metadata": {},
     "output_type": "execute_result"
    }
   ],
   "source": [
    "new_market = \"     bigdata_hadoop      \"\n",
    "new_market.strip()"
   ]
  },
  {
   "cell_type": "code",
   "execution_count": null,
   "metadata": {},
   "outputs": [],
   "source": []
  }
 ],
 "metadata": {
  "kernelspec": {
   "display_name": "Python 3",
   "language": "python",
   "name": "python3"
  },
  "language_info": {
   "codemirror_mode": {
    "name": "ipython",
    "version": 3
   },
   "file_extension": ".py",
   "mimetype": "text/x-python",
   "name": "python",
   "nbconvert_exporter": "python",
   "pygments_lexer": "ipython3",
   "version": "3.7.4"
  }
 },
 "nbformat": 4,
 "nbformat_minor": 2
}
